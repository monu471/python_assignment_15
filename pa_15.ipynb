{
 "cells": [
  {
   "cell_type": "markdown",
   "id": "9d18d477",
   "metadata": {},
   "source": [
    "### 2. What is monkey patching in Python?"
   ]
  },
  {
   "cell_type": "markdown",
   "id": "28316f85",
   "metadata": {},
   "source": [
    "Monkey patching is a technique in Python where you can dynamically modify the behavior of a module, class, method, or function at runtime, without actually changing its source code. This technique involves replacing a piece of code with a modified version or patching it with new code."
   ]
  },
  {
   "cell_type": "code",
   "execution_count": 1,
   "id": "3382cc1d",
   "metadata": {},
   "outputs": [
    {
     "name": "stdout",
     "output_type": "stream",
     "text": [
      "Hello, world!\n",
      "Hello, world!\n"
     ]
    }
   ],
   "source": [
    "# Define a simple class\n",
    "class MyClass:\n",
    "    def say_hello(self):\n",
    "        print(\"Hello, world!\")\n",
    "\n",
    "# Create an instance of the class\n",
    "obj = MyClass()\n",
    "\n",
    "# Define a new method that we want to monkey patch onto the class\n",
    "def say_hello_twice(self):\n",
    "    self.say_hello()\n",
    "    self.say_hello()\n",
    "\n",
    "# Monkey patch the class with the new method\n",
    "MyClass.say_hello_twice = say_hello_twice\n",
    "\n",
    "# Call the new method on the object\n",
    "obj.say_hello_twice()\n"
   ]
  },
  {
   "cell_type": "markdown",
   "id": "7f7bc3a3",
   "metadata": {},
   "source": [
    "### 3. What is the difference between a shallow copy and deep copy?"
   ]
  },
  {
   "cell_type": "markdown",
   "id": "688b2760",
   "metadata": {},
   "source": [
    "shallow copy :: A shallow copy creates a new object, but it only copies the references to the objects inside the original object. This means that changes made to the original object will also be reflected in the copy, and vice versa. \n",
    "\n",
    "deep copy :: a deep copy creates a new object and recursively copies all objects found within the original object. This means that changes made to the original object will not be reflected in the copy, and vice versa. Deep copy can be created using the deepcopy() function in the copy module.        "
   ]
  },
  {
   "cell_type": "code",
   "execution_count": 15,
   "id": "c223ea7c",
   "metadata": {},
   "outputs": [
    {
     "name": "stdout",
     "output_type": "stream",
     "text": [
      "[[1, 0, 3], [4, 5, 6]]\n",
      "[[1, 0, 3], [4, 5, 6]]\n"
     ]
    }
   ],
   "source": [
    "original_list = [[1, 2, 3], [4, 5, 6]]\n",
    "shallow_copy = original_list.copy()\n",
    "\n",
    "original_list[0][1] = 0\n",
    "\n",
    "print(original_list)    # [[1, 0, 3], [4, 5, 6]]\n",
    "print(shallow_copy)     # [[1, 0, 3], [4, 5, 6]]\n"
   ]
  },
  {
   "cell_type": "code",
   "execution_count": 16,
   "id": "cec5f459",
   "metadata": {},
   "outputs": [
    {
     "name": "stdout",
     "output_type": "stream",
     "text": [
      "[[1, 0, 3], [4, 5, 6]]\n",
      "[[1, 2, 3], [4, 5, 6]]\n"
     ]
    }
   ],
   "source": [
    "import copy\n",
    "\n",
    "original_list = [[1, 2, 3], [4, 5, 6]]\n",
    "deep_copy = copy.deepcopy(original_list)\n",
    "\n",
    "original_list[0][1] = 0\n",
    "\n",
    "print(original_list)    # [[1, 0, 3], [4, 5, 6]]\n",
    "print(deep_copy)        # [[1, 2, 3], [4, 5, 6]]\n"
   ]
  },
  {
   "cell_type": "markdown",
   "id": "3141d0d6",
   "metadata": {},
   "source": [
    "### 4. What is the maximum possible length of an identifier?"
   ]
  },
  {
   "cell_type": "markdown",
   "id": "179a06a2",
   "metadata": {},
   "source": [
    "\n",
    "In Python, an identifier is a name given to a variable, function, class, or any other user-defined object. It is used to uniquely identify the object in the program. An identifier can consist of letters (both uppercase and lowercase), digits, and underscores, but it must start with a letter or an underscore. Spaces and other special characters are not allowed in identifiers."
   ]
  },
  {
   "cell_type": "markdown",
   "id": "54cc9634",
   "metadata": {},
   "source": [
    "### 5. What is generator comprehension?"
   ]
  },
  {
   "cell_type": "markdown",
   "id": "10672e15",
   "metadata": {},
   "source": [
    "\n",
    "Generator comprehension, also known as generator expression, is a concise way of creating a generator in Python. It is similar to list comprehension, but instead of creating a list, it generates a sequence of values on-the-fly.\n",
    "\n",
    "In Python, a generator is a function that returns an iterator, which can be used to iterate over a sequence of values. Unlike lists or tuples, generators do not store all the values in memory at once. Instead, they generate each value as needed, which makes them more memory-efficient and faster for large data sets."
   ]
  },
  {
   "cell_type": "code",
   "execution_count": 25,
   "id": "3ddbcbec",
   "metadata": {},
   "outputs": [],
   "source": [
    "even_nums = (x for x in range(11) if x % 2 == 0)\n",
    "## usse of () instead of []\n",
    "    "
   ]
  },
  {
   "cell_type": "code",
   "execution_count": null,
   "id": "81ad7b78",
   "metadata": {},
   "outputs": [],
   "source": []
  }
 ],
 "metadata": {
  "kernelspec": {
   "display_name": "Python 3 (ipykernel)",
   "language": "python",
   "name": "python3"
  },
  "language_info": {
   "codemirror_mode": {
    "name": "ipython",
    "version": 3
   },
   "file_extension": ".py",
   "mimetype": "text/x-python",
   "name": "python",
   "nbconvert_exporter": "python",
   "pygments_lexer": "ipython3",
   "version": "3.10.9"
  }
 },
 "nbformat": 4,
 "nbformat_minor": 5
}
